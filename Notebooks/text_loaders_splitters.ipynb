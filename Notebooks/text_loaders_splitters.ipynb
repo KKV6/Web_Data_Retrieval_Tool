{
 "cells": [
  {
   "cell_type": "markdown",
   "id": "c457d2ec-919c-4865-8358-8b9dabfb00f3",
   "metadata": {},
   "source": [
    "## Document Loaders in LangChain"
   ]
  },
  {
   "cell_type": "markdown",
   "id": "a3670f8f-5081-45e6-ad08-970084735a00",
   "metadata": {},
   "source": [
    "### TextLoader"
   ]
  },
  {
   "cell_type": "code",
   "execution_count": 1,
   "id": "cda58748-92ea-4c91-91bd-ba923ce55702",
   "metadata": {},
   "outputs": [
    {
     "data": {
      "text/plain": [
       "[Document(metadata={'source': 'nvda_news_1.txt'}, page_content=\"The stock of NVIDIA Corp (NASDAQ:NVDA) experienced a daily loss of -3.56% and a 3-month gain of 32.35%. With an Earnings Per Share (EPS) (EPS) of $1.92, the question arises: is the stock significantly overvalued? This article aims to provide a detailed valuation analysis of NVIDIA, offering insights into its financial strength, profitability, growth, and more. We invite you to delve into this comprehensive analysis.\\n\\nCompany Overview\\nWarning! GuruFocus has detected 10 Warning Signs with NVDA. Click here to check it out.\\n\\nNVDA 30-Year Financial Data\\n\\nThe intrinsic value of NVDA\\n\\n\\nNVIDIA Corp (NASDAQ:NVDA) is a leading designer of discrete graphics processing units that enhance the experience on computing platforms. The firm's chips are widely used in various end markets, including PC gaming and data centers. In recent years, NVIDIA has broadened its focus from traditional PC graphics applications such as gaming to more complex and favorable opportunities, including artificial intelligence and autonomous driving, leveraging the high-performance capabilities of its products.\\n\\nCurrently, NVIDIA's stock price stands at $418.01, significantly higher than the GF Value of $310.28, indicating the stock might be overvalued. With a market cap of $1 trillion, the valuation seems steep. The following analysis aims to delve deeper into the company's value.\\n\\nIs NVIDIA's Stock Significantly Overvalued? A Comprehensive Valuation Analysis\\nIs NVIDIA's Stock Significantly Overvalued? A Comprehensive Valuation Analysis\\nUnderstanding the GF Value\\nThe GF Value is a unique measure of the intrinsic value of a stock, calculated based on historical trading multiples, a GuruFocus adjustment factor, and future business performance estimates. If the stock price is significantly above the GF Value Line, it is overvalued, and its future return is likely to be poor. Conversely, if it is significantly below the GF Value Line, its future return will likely be higher.\\n\\nAccording to GuruFocus Value calculation, NVIDIA (NASDAQ:NVDA) appears to be significantly overvalued. The stock's current price of $418.01 per share and the market cap of $1 trillion further strengthen this assumption.\\n\\nGiven that NVIDIA is significantly overvalued, the long-term return of its stock is likely to be much lower than its future business growth.\\n\\nIs NVIDIA's Stock Significantly Overvalued? A Comprehensive Valuation Analysis\\nIs NVIDIA's Stock Significantly Overvalued? A Comprehensive Valuation Analysis\\nLink: These companies may deliver higher future returns at reduced risk.\\n\\nFinancial Strength of NVIDIA\\nExamining the financial strength of a company is crucial before investing in its stock. Companies with poor financial strength pose a higher risk of permanent loss. NVIDIA's cash-to-debt ratio of 1.27 is worse than 58.04% of companies in the Semiconductors industry. However, NVIDIA's overall financial strength is 8 out of 10, indicating a strong financial position.\\n\\nIs NVIDIA's Stock Significantly Overvalued? A Comprehensive Valuation Analysis\\nIs NVIDIA's Stock Significantly Overvalued? A Comprehensive Valuation Analysis\\nProfitability and Growth\\nConsistent profitability over the long term reduces the risk for investors. NVIDIA, with its profitability ranking of 10 out of 10, has been profitable for the past 10 years. The company's operating margin of 17.37% ranks better than 76.5% of companies in the Semiconductors industry.\\n\\nHowever, growth is a crucial factor in a company's valuation. NVIDIA's growth ranks worse than 52.99% of companies in the Semiconductors industry, with its 3-year average revenue growth rate better than 87.88% of companies in the industry.\\n\\nROIC vs WACC\\nComparing a company's return on invested capital (ROIC) to its weighted average cost of capital (WACC) is an effective way to evaluate its profitability. Over the past 12 months, NVIDIA's ROIC was 20.32 while its WACC was 16.74, suggesting that the company is creating value for its shareholders.\\n\\nIs NVIDIA's Stock Significantly Overvalued? A Comprehensive Valuation Analysis\\nIs NVIDIA's Stock Significantly Overvalued? A Comprehensive Valuation Analysis\\nConclusion\\nIn conclusion, NVIDIA (NASDAQ:NVDA) appears to be significantly overvalued. Despite its strong financial condition and profitability, its growth ranks lower than 52.99% of companies in the Semiconductors industry. To learn more about NVIDIA stock, you can check out its 30-Year Financials here.\\n\\nTo find out the high quality companies that may deliver above-average returns, please check out GuruFocus High Quality Low Capex Screener.\\n\\nThis article first appeared on GuruFocus.\")]"
      ]
     },
     "execution_count": 1,
     "metadata": {},
     "output_type": "execute_result"
    }
   ],
   "source": [
    "from langchain_community.document_loaders import TextLoader\n",
    "\n",
    "loader = TextLoader(\"nvda_news_1.txt\")\n",
    "loader.load()"
   ]
  },
  {
   "cell_type": "code",
   "execution_count": 2,
   "id": "17b1a970-b15e-46ba-8e2e-c95734ef2247",
   "metadata": {},
   "outputs": [
    {
     "data": {
      "text/plain": [
       "langchain_community.document_loaders.text.TextLoader"
      ]
     },
     "execution_count": 2,
     "metadata": {},
     "output_type": "execute_result"
    }
   ],
   "source": [
    "type(loader)"
   ]
  },
  {
   "cell_type": "code",
   "execution_count": 3,
   "id": "9d51608a-e3b5-4778-a15e-afcab29aadb2",
   "metadata": {},
   "outputs": [
    {
     "data": {
      "text/plain": [
       "'nvda_news_1.txt'"
      ]
     },
     "execution_count": 3,
     "metadata": {},
     "output_type": "execute_result"
    }
   ],
   "source": [
    "loader.file_path"
   ]
  },
  {
   "cell_type": "markdown",
   "id": "96867a85-ff96-401c-9779-46463ef9a6b1",
   "metadata": {},
   "source": [
    "### CSVLoader"
   ]
  },
  {
   "cell_type": "code",
   "execution_count": 4,
   "id": "8b6335dc-c28e-4cdb-83ef-27a5432718ea",
   "metadata": {},
   "outputs": [
    {
     "data": {
      "text/plain": [
       "[Document(metadata={'source': 'movies.csv', 'row': 0}, page_content='movie_id: 101\\ntitle: K.G.F: Chapter 2\\nindustry: Bollywood\\nrelease_year: 2022\\nimdb_rating: 8.4\\nstudio: Hombale Films\\nlanguage_id: 3\\nbudget: 1\\nrevenue: 12.5\\nunit: Billions\\ncurrency: INR'),\n",
       " Document(metadata={'source': 'movies.csv', 'row': 1}, page_content='movie_id: 102\\ntitle: Doctor Strange in the Multiverse of Madness\\nindustry: Hollywood\\nrelease_year: 2022\\nimdb_rating: 7\\nstudio: Marvel Studios\\nlanguage_id: 5\\nbudget: 200\\nrevenue: 954.8\\nunit: Millions\\ncurrency: USD'),\n",
       " Document(metadata={'source': 'movies.csv', 'row': 2}, page_content='movie_id: 103\\ntitle: Thor: The Dark World\\nindustry: Hollywood\\nrelease_year: 2013\\nimdb_rating: 6.8\\nstudio: Marvel Studios\\nlanguage_id: 5\\nbudget: 165\\nrevenue: 644.8\\nunit: Millions\\ncurrency: USD'),\n",
       " Document(metadata={'source': 'movies.csv', 'row': 3}, page_content='movie_id: 104\\ntitle: Thor: Ragnarok\\nindustry: Hollywood\\nrelease_year: 2017\\nimdb_rating: 7.9\\nstudio: Marvel Studios\\nlanguage_id: 5\\nbudget: 180\\nrevenue: 854\\nunit: Millions\\ncurrency: USD'),\n",
       " Document(metadata={'source': 'movies.csv', 'row': 4}, page_content='movie_id: 105\\ntitle: Thor: Love and Thunder\\nindustry: Hollywood\\nrelease_year: 2022\\nimdb_rating: 6.8\\nstudio: Marvel Studios\\nlanguage_id: 5\\nbudget: 250\\nrevenue: 670\\nunit: Millions\\ncurrency: USD'),\n",
       " Document(metadata={'source': 'movies.csv', 'row': 5}, page_content='movie_id: 106\\ntitle: Sholay\\nindustry: Bollywood\\nrelease_year: 1975\\nimdb_rating: 8.1\\nstudio: United Producers\\nlanguage_id: 1\\nbudget: Not Available\\nrevenue: Not Available\\nunit: Not Available\\ncurrency: Not Available'),\n",
       " Document(metadata={'source': 'movies.csv', 'row': 6}, page_content='movie_id: 107\\ntitle: Dilwale Dulhania Le Jayenge\\nindustry: Bollywood\\nrelease_year: 1995\\nimdb_rating: 8\\nstudio: Yash Raj Films\\nlanguage_id: 1\\nbudget: 400\\nrevenue: 2000\\nunit: Millions\\ncurrency: INR'),\n",
       " Document(metadata={'source': 'movies.csv', 'row': 7}, page_content='movie_id: 108\\ntitle: 3 Idiots\\nindustry: Bollywood\\nrelease_year: 2009\\nimdb_rating: 8.4\\nstudio: Vinod Chopra Films\\nlanguage_id: 1\\nbudget: 550\\nrevenue: 4000\\nunit: Millions\\ncurrency: INR'),\n",
       " Document(metadata={'source': 'movies.csv', 'row': 8}, page_content='movie_id: 109\\ntitle: Kabhi Khushi Kabhie Gham\\nindustry: Bollywood\\nrelease_year: 2001\\nimdb_rating: 7.4\\nstudio: Dharma Productions\\nlanguage_id: 1\\nbudget: 390\\nrevenue: 1360\\nunit: Millions\\ncurrency: INR')]"
      ]
     },
     "execution_count": 4,
     "metadata": {},
     "output_type": "execute_result"
    }
   ],
   "source": [
    "from langchain_community.document_loaders.csv_loader import CSVLoader\n",
    "\n",
    "loader = CSVLoader(file_path=\"movies.csv\")\n",
    "data = loader.load()\n",
    "data"
   ]
  },
  {
   "cell_type": "code",
   "execution_count": 5,
   "id": "9b6a5530-cf95-4616-896f-b83b4718fcc7",
   "metadata": {},
   "outputs": [
    {
     "name": "stdout",
     "output_type": "stream",
     "text": [
      "movie_id: 101\n",
      "title: K.G.F: Chapter 2\n",
      "industry: Bollywood\n",
      "release_year: 2022\n",
      "imdb_rating: 8.4\n",
      "studio: Hombale Films\n",
      "language_id: 3\n",
      "budget: 1\n",
      "revenue: 12.5\n",
      "unit: Billions\n",
      "currency: INR\n"
     ]
    }
   ],
   "source": [
    "print(data[0].page_content)"
   ]
  },
  {
   "cell_type": "code",
   "execution_count": 6,
   "id": "377cbd8e-d320-4d7e-aca6-783c3ef66fd0",
   "metadata": {},
   "outputs": [
    {
     "data": {
      "text/plain": [
       "{'source': 'movies.csv', 'row': 0}"
      ]
     },
     "execution_count": 6,
     "metadata": {},
     "output_type": "execute_result"
    }
   ],
   "source": [
    "data[0].metadata"
   ]
  },
  {
   "cell_type": "code",
   "execution_count": 7,
   "id": "5f18f3d3-3cb8-4d1d-81d7-cccb14dfc500",
   "metadata": {},
   "outputs": [
    {
     "data": {
      "text/plain": [
       "[Document(metadata={'source': 'K.G.F: Chapter 2', 'row': 0}, page_content='movie_id: 101\\ntitle: K.G.F: Chapter 2\\nindustry: Bollywood\\nrelease_year: 2022\\nimdb_rating: 8.4\\nstudio: Hombale Films\\nlanguage_id: 3\\nbudget: 1\\nrevenue: 12.5\\nunit: Billions\\ncurrency: INR'),\n",
       " Document(metadata={'source': 'Doctor Strange in the Multiverse of Madness', 'row': 1}, page_content='movie_id: 102\\ntitle: Doctor Strange in the Multiverse of Madness\\nindustry: Hollywood\\nrelease_year: 2022\\nimdb_rating: 7\\nstudio: Marvel Studios\\nlanguage_id: 5\\nbudget: 200\\nrevenue: 954.8\\nunit: Millions\\ncurrency: USD'),\n",
       " Document(metadata={'source': 'Thor: The Dark World', 'row': 2}, page_content='movie_id: 103\\ntitle: Thor: The Dark World\\nindustry: Hollywood\\nrelease_year: 2013\\nimdb_rating: 6.8\\nstudio: Marvel Studios\\nlanguage_id: 5\\nbudget: 165\\nrevenue: 644.8\\nunit: Millions\\ncurrency: USD'),\n",
       " Document(metadata={'source': 'Thor: Ragnarok', 'row': 3}, page_content='movie_id: 104\\ntitle: Thor: Ragnarok\\nindustry: Hollywood\\nrelease_year: 2017\\nimdb_rating: 7.9\\nstudio: Marvel Studios\\nlanguage_id: 5\\nbudget: 180\\nrevenue: 854\\nunit: Millions\\ncurrency: USD'),\n",
       " Document(metadata={'source': 'Thor: Love and Thunder', 'row': 4}, page_content='movie_id: 105\\ntitle: Thor: Love and Thunder\\nindustry: Hollywood\\nrelease_year: 2022\\nimdb_rating: 6.8\\nstudio: Marvel Studios\\nlanguage_id: 5\\nbudget: 250\\nrevenue: 670\\nunit: Millions\\ncurrency: USD'),\n",
       " Document(metadata={'source': 'Sholay', 'row': 5}, page_content='movie_id: 106\\ntitle: Sholay\\nindustry: Bollywood\\nrelease_year: 1975\\nimdb_rating: 8.1\\nstudio: United Producers\\nlanguage_id: 1\\nbudget: Not Available\\nrevenue: Not Available\\nunit: Not Available\\ncurrency: Not Available'),\n",
       " Document(metadata={'source': 'Dilwale Dulhania Le Jayenge', 'row': 6}, page_content='movie_id: 107\\ntitle: Dilwale Dulhania Le Jayenge\\nindustry: Bollywood\\nrelease_year: 1995\\nimdb_rating: 8\\nstudio: Yash Raj Films\\nlanguage_id: 1\\nbudget: 400\\nrevenue: 2000\\nunit: Millions\\ncurrency: INR'),\n",
       " Document(metadata={'source': '3 Idiots', 'row': 7}, page_content='movie_id: 108\\ntitle: 3 Idiots\\nindustry: Bollywood\\nrelease_year: 2009\\nimdb_rating: 8.4\\nstudio: Vinod Chopra Films\\nlanguage_id: 1\\nbudget: 550\\nrevenue: 4000\\nunit: Millions\\ncurrency: INR'),\n",
       " Document(metadata={'source': 'Kabhi Khushi Kabhie Gham', 'row': 8}, page_content='movie_id: 109\\ntitle: Kabhi Khushi Kabhie Gham\\nindustry: Bollywood\\nrelease_year: 2001\\nimdb_rating: 7.4\\nstudio: Dharma Productions\\nlanguage_id: 1\\nbudget: 390\\nrevenue: 1360\\nunit: Millions\\ncurrency: INR')]"
      ]
     },
     "execution_count": 7,
     "metadata": {},
     "output_type": "execute_result"
    }
   ],
   "source": [
    "loader = CSVLoader(file_path=\"movies.csv\", source_column = \"title\")\n",
    "data = loader.load()\n",
    "data"
   ]
  },
  {
   "cell_type": "code",
   "execution_count": 8,
   "id": "9bf9a49e-f626-4b9c-81cb-5b013dae34ad",
   "metadata": {},
   "outputs": [
    {
     "data": {
      "text/plain": [
       "{'source': 'K.G.F: Chapter 2', 'row': 0}"
      ]
     },
     "execution_count": 8,
     "metadata": {},
     "output_type": "execute_result"
    }
   ],
   "source": [
    "data[0].metadata"
   ]
  },
  {
   "cell_type": "markdown",
   "id": "29a635fd-2417-429b-9405-6d6003eae6f1",
   "metadata": {},
   "source": [
    "### UnstructuredURLLoader"
   ]
  },
  {
   "cell_type": "code",
   "execution_count": 9,
   "id": "ef7f852f-99c4-4ca2-9f7f-062437ef9165",
   "metadata": {
    "scrolled": true
   },
   "outputs": [
    {
     "data": {
      "text/plain": [
       "Document(metadata={'source': 'https://www.thehindu.com/sport/cricket/2024-t20-world-cup-analysis-of-a-famous-indian-victory/article68354339.ece'}, page_content='GIFT a Subscription\\n\\nVisual Story\\n\\nData\\n\\nHealth\\n\\nOpinion\\n\\nSEARCH\\n\\nIndia\\n\\nWorld\\n\\nMovies\\n\\nSport\\n\\ne-Paper\\n\\nVisual Story\\n\\nData\\n\\nHealth\\n\\nOpinion\\n\\nSEARCH\\n\\nNews\\n\\nBusiness\\n\\nEntertainment\\n\\nLife & Style\\n\\nSociety\\n\\nTechnology\\n\\nVideos\\n\\nPodcast\\n\\nCities\\n\\nStates\\n\\nScience\\n\\nShow More\\n\\nChennai\\n\\nDelhi\\n\\nBengaluru\\n\\nHyderabad\\n\\nMovies\\n\\nFood\\n\\nChildren\\n\\nData\\n\\nKochi\\n\\nBooks\\n\\nBrandhub\\n\\nEducation\\n\\nTo enjoy additional benefits\\n\\nGIFT a Subscription\\n\\nShowcaseSubscribe to NewslettersCrossword+\\n\\nCONNECT WITH US\\n\\n2024 T20 World Cup: Analysis of a famous Indian victory\\n\\nAs Team India scripts a famous T20 World Cup win after 17 years, The Hindu looks at the performance of the side and the legacy of key individuals\\n\\nUpdated - July 03, 2024 04:59 pm IST\\n\\nPublished - July 01, 2024 12:32 pm IST\\n\\nThe Hindu Bureau\\n\\nCopy link\\n\\nEmail\\n\\nFacebook\\n\\nTwitter\\n\\nTelegram\\n\\nLinkedIn\\n\\nWhatsApp\\n\\nReddit\\n\\nRemove SEE ALL\\n\\nIndian team celebrates with the trophy after defeating South Africa in the ICC Twenty20 World Cup 2024 final in Barbados. | Photo Credit: K.R. Deepak\\n\\nThe Indian cricket team won the ICC 2024 Men’s T20 World Cup with a narrow win over South Africa in Barbados on June 29, 2024. It was the national team’s second T20 World Cup title, and the first in 17 years.\\n\\nAlso Read:New beginnings: On India’s ICC T20 World Cup 2024 win\\n\\nAs the dust settles around the the famous victory, The Hindu delves into the performance of the winning side and the legacy of key individuals, some of whom have left the team.\\n\\nCopy link\\n\\nEmail\\n\\nFacebook\\n\\nTwitter\\n\\nTelegram\\n\\nLinkedIn\\n\\nWhatsApp\\n\\nReddit\\n\\nRemove SEE ALL\\n\\nRelated Topics\\n\\ncricket / T20 World Cup 2024 / Twenty20\\n\\nCollection - 9 stories\\n\\nCricket\\n\\nT20 World Cup 2024 | India conquers own demons en route world crown\\n\\nAshwin Achal\\n\\nEditorial\\n\\nNew beginnings: On India’s ICC T20 World Cup 2024 win\\n\\nPremium\\n\\nJasprit Bumrah: A wizard at work\\n\\nR. Kaushik\\n\\nPremium\\n\\nFielding coach Dilip’s non-linear progression to the top\\n\\nTarun Shastry\\n\\nPremium\\n\\nT20 World Cup 2024 | Hardik Pandya exorcises his demons at last\\n\\nR. Kaushik\\n\\nCricket\\n\\n2024 T20 World Cup: Virat Kohli’s T20 legacy marked by relentless pursuit towards perfection\\n\\nAyan Acharya\\n\\nCricket\\n\\nT20 World Cup 2024 | Ravindra Jadeja too walks into the sunset\\n\\nAshwin Achal\\n\\nCricket\\n\\nT20 World Cup 2024 | For Dravid, a forgettable chapter to redemption song in the Caribbean\\n\\nAshwin Achal\\n\\nCricket\\n\\nSkipper Rohit Sharms walked the talk in T20Is\\n\\nAshwin Achal\\n\\nTop News Today\\n\\n0 / 0\\n\\nRead in App\\n\\nThe Hindu\\n\\nAbout Us\\n\\nCode of Editorial Values\\n\\nNews Archive\\n\\nSitemap\\n\\nPrint Subscription\\n\\nDigital Subscription\\n\\nSubscribe to Newsletters\\n\\nRss Feeds\\n\\nReaders Editor-Terms of Reference\\n\\nAuthors & Contributors\\n\\nContact us\\n\\nContact Us\\n\\nSocial Media\\n\\nAdvertise With Us\\n\\nGroup News Sites\\n\\nBusiness Line\\n\\nBL on Campus\\n\\nSportstar\\n\\nFrontline\\n\\nஇந்து தமிழ் திசை\\n\\nThe Hindu Centre\\n\\nYoung World Club\\n\\nThe Hindu ePaper\\n\\nBusiness Line ePaper\\n\\nCrossword + Free Games\\n\\nOther Products\\n\\nRoofandFloor\\n\\nSTEP\\n\\nImages\\n\\nClassifieds - Print\\n\\nBookstore & Special Publications\\n\\nPopular Sections\\n\\nElections\\n\\nIsraeli–Palestinian conflict 2023\\n\\nLatest News\\n\\nNational News\\n\\nInternational News\\n\\nVideos\\n\\nLife & Style\\n\\nFood\\n\\nPodcast\\n\\nShowcase\\n\\nOpinion\\n\\nEditorial\\n\\nColumns\\n\\nComment\\n\\nCartoon\\n\\nLetters\\n\\nInterview\\n\\nLead\\n\\nBusiness\\n\\nAgri-Business\\n\\nIndustry\\n\\nEconomy\\n\\nMarkets\\n\\nBudget\\n\\nSport\\n\\nCricket\\n\\nFootball\\n\\nHockey\\n\\nTennis\\n\\nAthletics\\n\\nMotorsport\\n\\nRaces\\n\\nOther Sports\\n\\nSci-Tech\\n\\nScience\\n\\nTechnology\\n\\nHealth\\n\\nAgriculture\\n\\nEnvironment\\n\\nGadgets\\n\\nInternet\\n\\nStates\\n\\nAndhra Pradesh\\n\\nKarnataka\\n\\nKerala\\n\\nTamil Nadu\\n\\nTelangana\\n\\nCities\\n\\nBengaluru\\n\\nChennai\\n\\nCoimbatore\\n\\nDelhi\\n\\nHyderabad\\n\\nKochi\\n\\nKolkata\\n\\nKozhikode\\n\\nMadurai\\n\\nMangaluru\\n\\nMumbai\\n\\nPuducherry\\n\\nThiruvananthapuram\\n\\nTiruchirapalli\\n\\nVijayawada\\n\\nVisakhapatnam\\n\\nTrending on The Hindu\\n\\nNews\\n\\nIndia News\\n\\nLive News from the Hindu\\n\\nHathras Stampede: Who is Bhole Baba?\\n\\nRajya Sabha proceedings today LIVE\\n\\nChandrababu Naidu Delhi visit\\n\\nIn Bihar court, Rahul Gandhi booked over remarks in Parliament on Hindus\\n\\nNEET PG 2024 date\\n\\nEuro 2024:Turkey set up Euros quarter-final with Dutch\\n\\n‘Kalki 2898 AD’ box office collection: Prabhas’ film crosses Rs 500 crore mark\\n\\nTrending on Group sites\\n\\nStock Market Live Updates\\n\\nStocks to buy today\\n\\nLok Sabha Election Results 2024\\n\\nIND vs SA T20 LIVE\\n\\nGold Rate Today\\n\\nSilver Rate Today\\n\\nCSK vs SRH LIVE\\n\\nFootball News\\n\\nPolitics News\\n\\nFrontline Current Issue\\n\\nTerms of Use\\n\\nPrivacy Policy\\n\\nCopyright© 2024, THG PUBLISHING PVT LTD. or its affiliated companies. All rights reserved.\\n\\nBACK TO TOP\\n\\nSign in to unlock member-only benefits!\\n\\nAccess 10 free stories every month\\n\\nSave stories to read later\\n\\nAccess to comment on every story\\n\\nSign-up/manage your newsletter subscriptions with a single click\\n\\nGet notified by email for early access to discounts & offers on our products\\n\\nLooks like you are already logged in from more than 3 devices!\\n\\nTo continue logging in, remove at least one device from the below list\\n\\nTerms & conditions | Institutional Subscriber\\n\\nComments\\n\\nComments have to be in English, and in full sentences. They cannot be abusive or personal. Please abide by our community guidelines for posting your comments.\\n\\nWe have migrated to a new commenting platform. If you are already a registered user of The Hindu and logged in, you may continue to engage with our articles. If you do not have an account please register and login to post comments. Users can access their older comments by logging into their accounts on Vuukle.')"
      ]
     },
     "execution_count": 9,
     "metadata": {},
     "output_type": "execute_result"
    }
   ],
   "source": [
    "from langchain_community.document_loaders import UnstructuredURLLoader\n",
    "\n",
    "\n",
    "urls = [\n",
    "    \"https://www.thehindu.com/sport/cricket/2024-t20-world-cup-analysis-of-a-famous-indian-victory/article68354339.ece\",\n",
    "    \"https://www.thehindu.com/opinion/editorial/new-beginnings-the-hindu-editorial-on-indias-icc-t20-world-cup-2024-win/article68351915.ece\"\n",
    "]\n",
    "\n",
    "\n",
    "loader = UnstructuredURLLoader(urls=urls)\n",
    "\n",
    "data = loader.load()\n",
    "data[0]"
   ]
  },
  {
   "cell_type": "code",
   "execution_count": 10,
   "id": "2e9d5390-db83-4928-8b75-f05e1765ac35",
   "metadata": {},
   "outputs": [
    {
     "data": {
      "text/plain": [
       "2"
      ]
     },
     "execution_count": 10,
     "metadata": {},
     "output_type": "execute_result"
    }
   ],
   "source": [
    "len(data)"
   ]
  },
  {
   "cell_type": "code",
   "execution_count": 11,
   "id": "417878e2-5bb4-4c36-b1e8-bf55afd023d8",
   "metadata": {},
   "outputs": [
    {
     "data": {
      "text/plain": [
       "'GIFT a Subscription\\n\\nVisual Story\\n\\nData\\n\\nHealth\\n\\nOpinion\\n\\nSEARCH\\n\\nIndia\\n\\nWorld\\n\\nMovies\\n\\nSport\\n\\ne-Pap'"
      ]
     },
     "execution_count": 11,
     "metadata": {},
     "output_type": "execute_result"
    }
   ],
   "source": [
    "data[0].page_content[0:100]"
   ]
  },
  {
   "cell_type": "code",
   "execution_count": 12,
   "id": "fa4a42f8-200e-4d43-bd1e-cd56e808471c",
   "metadata": {},
   "outputs": [
    {
     "data": {
      "text/plain": [
       "{'source': 'https://www.thehindu.com/sport/cricket/2024-t20-world-cup-analysis-of-a-famous-indian-victory/article68354339.ece'}"
      ]
     },
     "execution_count": 12,
     "metadata": {},
     "output_type": "execute_result"
    }
   ],
   "source": [
    "data[0].metadata"
   ]
  },
  {
   "cell_type": "markdown",
   "id": "fee9e717-9105-4771-8a5a-f9890321e967",
   "metadata": {},
   "source": [
    "## Text Splitters\n",
    "Why do we need text splitters in first place?\n",
    "\n",
    "LLM's have token limits. Hence we need to split the text which can be large into small chunks so that each chunk size is under the token limit. There are various text splitter classes in langchain that allows us to do this."
   ]
  },
  {
   "cell_type": "code",
   "execution_count": 13,
   "id": "87514fc2-8fdb-4566-9c22-dfaa1814bba4",
   "metadata": {},
   "outputs": [],
   "source": [
    "# Taking some random text from wikipedia\n",
    "\n",
    "text = \"\"\"Interstellar is a 2014 epic science fiction film co-written, directed, and produced by Christopher Nolan. \n",
    "It stars Matthew McConaughey, Anne Hathaway, Jessica Chastain, Bill Irwin, Ellen Burstyn, Matt Damon, and Michael Caine. \n",
    "Set in a dystopian future where humanity is embroiled in a catastrophic blight and famine, the film follows a group of astronauts who travel through a wormhole near Saturn in search of a new home for humankind.\n",
    "\n",
    "Brothers Christopher and Jonathan Nolan wrote the screenplay, which had its origins in a script Jonathan developed in 2007 and was originally set to be directed by Steven Spielberg. \n",
    "Kip Thorne, a Caltech theoretical physicist and 2017 Nobel laureate in Physics,[4] was an executive producer, acted as a scientific consultant, and wrote a tie-in book, The Science of Interstellar. \n",
    "Cinematographer Hoyte van Hoytema shot it on 35 mm movie film in the Panavision anamorphic format and IMAX 70 mm. Principal photography began in late 2013 and took place in Alberta, Iceland, and Los Angeles. \n",
    "Interstellar uses extensive practical and miniature effects, and the company Double Negative created additional digital effects.\n",
    "\n",
    "Interstellar premiered in Los Angeles on October 26, 2014. In the United States, it was first released on film stock, expanding to venues using digital projectors. The film received generally positive reviews from critics and grossed over $677 million worldwide ($715 million after subsequent re-releases), making it the tenth-highest-grossing film of 2014. \n",
    "It has been praised by astronomers for its scientific accuracy and portrayal of theoretical astrophysics.[5][6][7] Interstellar was nominated for five awards at the 87th Academy Awards, winning Best Visual Effects, and received numerous other accolades.\"\"\""
   ]
  },
  {
   "cell_type": "markdown",
   "id": "8a19c4f1-616f-4f9e-a79c-768e6467438a",
   "metadata": {},
   "source": [
    "### Manual approach of splitting the text into chunks"
   ]
  },
  {
   "cell_type": "code",
   "execution_count": 14,
   "id": "69a09f7a-6c20-456c-86c1-68b2aef4083d",
   "metadata": {},
   "outputs": [
    {
     "data": {
      "text/plain": [
       "'Interstellar is a 2014 epic science fiction film co-written, directed, and produced by Christopher Nolan. \\nIt stars Matthew McConaughey, Anne Hathaway, Jessica Chastain, Bill Irwin, Ellen Burstyn, Mat'"
      ]
     },
     "execution_count": 14,
     "metadata": {},
     "output_type": "execute_result"
    }
   ],
   "source": [
    "# Say LLM token limit is 200, in that case we can do simple thing such as this\n",
    "\n",
    "text[:200]"
   ]
  },
  {
   "cell_type": "markdown",
   "id": "bdfb740e-fa1b-4229-a927-bc14b2fecff2",
   "metadata": {},
   "source": [
    "Well but we want complete words and want to do this for entire text, may be we can use Python's split funciton"
   ]
  },
  {
   "cell_type": "code",
   "execution_count": 15,
   "id": "9d081e18-9fd4-450f-87e1-527aeb56640f",
   "metadata": {},
   "outputs": [
    {
     "data": {
      "text/plain": [
       "264"
      ]
     },
     "execution_count": 15,
     "metadata": {},
     "output_type": "execute_result"
    }
   ],
   "source": [
    "words = text.split(\" \")\n",
    "len(words)"
   ]
  },
  {
   "cell_type": "code",
   "execution_count": 16,
   "id": "373b1f56-ea2d-4144-8b00-f6093a076be2",
   "metadata": {},
   "outputs": [],
   "source": [
    "chunks = []\n",
    "s = \"\"\n",
    "\n",
    "for word in words:\n",
    "    s += word + \" \"\n",
    "    if len(s)>200:\n",
    "        chunks.append(s)\n",
    "        s = \"\"\n",
    "\n",
    "chunks.append(s)\n"
   ]
  },
  {
   "cell_type": "code",
   "execution_count": 17,
   "id": "8dbbafba-e33e-4a18-8d7b-08459de4a015",
   "metadata": {},
   "outputs": [
    {
     "data": {
      "text/plain": [
       "['Interstellar is a 2014 epic science fiction film co-written, directed, and produced by Christopher Nolan. \\nIt stars Matthew McConaughey, Anne Hathaway, Jessica Chastain, Bill Irwin, Ellen Burstyn, Matt ',\n",
       " 'Damon, and Michael Caine. \\nSet in a dystopian future where humanity is embroiled in a catastrophic blight and famine, the film follows a group of astronauts who travel through a wormhole near Saturn in ']"
      ]
     },
     "execution_count": 17,
     "metadata": {},
     "output_type": "execute_result"
    }
   ],
   "source": [
    "chunks[:2]"
   ]
  },
  {
   "cell_type": "markdown",
   "id": "89497797-5a34-4d79-9069-1ac68c0ed6be",
   "metadata": {},
   "source": [
    "**Splitting data into chunks can be done in native python but it is a tidious process. Also if necessary, you may need to experiment with various delimiters in an iterative manner to ensure that each chunk does not exceed the token length limit of the respective LLM.**"
   ]
  },
  {
   "cell_type": "markdown",
   "id": "226f11a4-f004-4d4e-bc8d-d30c77a120dc",
   "metadata": {},
   "source": [
    "**Langchain provides a better way through text splitter classes.**"
   ]
  },
  {
   "cell_type": "markdown",
   "id": "64d512da-c130-45c1-87f0-d6c12019abf3",
   "metadata": {},
   "source": [
    "### Using Text Splitter Classes from Langchain"
   ]
  },
  {
   "cell_type": "markdown",
   "id": "04b2f617-6cfa-4d74-b4fd-fdd4b7fec2d4",
   "metadata": {},
   "source": [
    "#### CharacterTextSplitter"
   ]
  },
  {
   "cell_type": "code",
   "execution_count": 18,
   "id": "a9db5428-fa12-4bd5-8a15-45c1e74dd9d5",
   "metadata": {},
   "outputs": [],
   "source": [
    "from langchain_text_splitters import CharacterTextSplitter\n",
    "\n",
    "splitter = CharacterTextSplitter(\n",
    "    separator = \"\\n\",\n",
    "    chunk_size=200,\n",
    "    chunk_overlap=0\n",
    ")"
   ]
  },
  {
   "cell_type": "code",
   "execution_count": 19,
   "id": "a698d7f0-02d5-46c6-9e1c-8ae7849a2b24",
   "metadata": {},
   "outputs": [
    {
     "name": "stderr",
     "output_type": "stream",
     "text": [
      "Created a chunk of size 210, which is longer than the specified 200\n",
      "Created a chunk of size 208, which is longer than the specified 200\n",
      "Created a chunk of size 358, which is longer than the specified 200\n"
     ]
    },
    {
     "data": {
      "text/plain": [
       "9"
      ]
     },
     "execution_count": 19,
     "metadata": {},
     "output_type": "execute_result"
    }
   ],
   "source": [
    "chunks = splitter.split_text(text)\n",
    "len(chunks)"
   ]
  },
  {
   "cell_type": "code",
   "execution_count": 20,
   "id": "029f35e3-faa2-4491-83ee-1c1621cb85fd",
   "metadata": {},
   "outputs": [
    {
     "name": "stdout",
     "output_type": "stream",
     "text": [
      "105\n",
      "120\n",
      "210\n",
      "181\n",
      "197\n",
      "207\n",
      "128\n",
      "357\n",
      "253\n"
     ]
    }
   ],
   "source": [
    "for chunk in chunks:\n",
    "    print(len(chunk))"
   ]
  },
  {
   "cell_type": "markdown",
   "id": "15a1e5ae-4ee3-4397-8a5c-b63fc920edb5",
   "metadata": {},
   "source": [
    "As we can see, all though we gave 200 as a chunk size since the split was based on \\n, it ended up creating chunks that are bigger than size 200."
   ]
  },
  {
   "cell_type": "markdown",
   "id": "ab5e7e76-bdab-43be-b5a8-b820ea727ec5",
   "metadata": {},
   "source": [
    "Another class from Langchain can be used to recursively split the text based on a list of separators. This class is RecursiveTextSplitter. Let's see how it works"
   ]
  },
  {
   "cell_type": "code",
   "execution_count": 21,
   "id": "092bf8a7-81a0-40e2-89c0-a1836d043513",
   "metadata": {},
   "outputs": [],
   "source": [
    "from langchain_text_splitters import RecursiveCharacterTextSplitter\n",
    "\n",
    "recursive_splitter = RecursiveCharacterTextSplitter(\n",
    "    separators = [\"\\n\\n\", \"\\n\", \" \"],\n",
    "    chunk_size=200,\n",
    "    chunk_overlap=0,\n",
    ")"
   ]
  },
  {
   "cell_type": "code",
   "execution_count": 22,
   "id": "5e870a64-7b96-4235-a33b-d2ab55043d04",
   "metadata": {},
   "outputs": [
    {
     "data": {
      "text/plain": [
       "13"
      ]
     },
     "execution_count": 22,
     "metadata": {},
     "output_type": "execute_result"
    }
   ],
   "source": [
    "chunks = recursive_splitter.split_text(text)\n",
    "len(chunks)"
   ]
  },
  {
   "cell_type": "code",
   "execution_count": 23,
   "id": "b3c2b226-3729-47f5-a59d-e46577eeb2fb",
   "metadata": {},
   "outputs": [
    {
     "name": "stdout",
     "output_type": "stream",
     "text": [
      "105\n",
      "120\n",
      "199\n",
      "10\n",
      "181\n",
      "197\n",
      "198\n",
      "8\n",
      "128\n",
      "191\n",
      "165\n",
      "198\n",
      "54\n"
     ]
    }
   ],
   "source": [
    "for chunk in chunks:\n",
    "    print(len(chunk))"
   ]
  },
  {
   "cell_type": "markdown",
   "id": "0cebe649-6a0a-4645-94f1-7c21f97ad9ae",
   "metadata": {},
   "source": [
    "**Let's understand how exactly it formed these chunks**"
   ]
  },
  {
   "cell_type": "code",
   "execution_count": 24,
   "id": "09a2c16c-2e01-4b58-a5e8-a6ddf0e7d2cc",
   "metadata": {},
   "outputs": [
    {
     "data": {
      "text/plain": [
       "'Interstellar is a 2014 epic science fiction film co-written, directed, and produced by Christopher Nolan. \\nIt stars Matthew McConaughey, Anne Hathaway, Jessica Chastain, Bill Irwin, Ellen Burstyn, Matt Damon, and Michael Caine. \\nSet in a dystopian future where humanity is embroiled in a catastrophic blight and famine, the film follows a group of astronauts who travel through a wormhole near Saturn in search of a new home for humankind.'"
      ]
     },
     "execution_count": 24,
     "metadata": {},
     "output_type": "execute_result"
    }
   ],
   "source": [
    "first_split = text.split(\"\\n\\n\")[0]\n",
    "first_split"
   ]
  },
  {
   "cell_type": "code",
   "execution_count": 25,
   "id": "ae0de3fd-564f-4275-ab4f-680c8c1d4512",
   "metadata": {},
   "outputs": [
    {
     "data": {
      "text/plain": [
       "439"
      ]
     },
     "execution_count": 25,
     "metadata": {},
     "output_type": "execute_result"
    }
   ],
   "source": [
    "len(first_split)"
   ]
  },
  {
   "cell_type": "markdown",
   "id": "18b1dc02-56e0-4c13-92ef-7784ad2f0a50",
   "metadata": {},
   "source": [
    "Recursive text splitter uses a list of separators, i.e. separators = [\"\\n\\n\", \"\\n\", \" \"].\n",
    "\n",
    "So now it will first split using \\n\\n and then if the resulting chunk size is greater than the chunk_size parameter which is 200 in our case, then it will use the next separator which is \\n"
   ]
  },
  {
   "cell_type": "code",
   "execution_count": 26,
   "id": "b4f2accd-6f22-4cd0-9670-7a6d4e31876b",
   "metadata": {},
   "outputs": [
    {
     "data": {
      "text/plain": [
       "['Interstellar is a 2014 epic science fiction film co-written, directed, and produced by Christopher Nolan. ',\n",
       " 'It stars Matthew McConaughey, Anne Hathaway, Jessica Chastain, Bill Irwin, Ellen Burstyn, Matt Damon, and Michael Caine. ',\n",
       " 'Set in a dystopian future where humanity is embroiled in a catastrophic blight and famine, the film follows a group of astronauts who travel through a wormhole near Saturn in search of a new home for humankind.']"
      ]
     },
     "execution_count": 26,
     "metadata": {},
     "output_type": "execute_result"
    }
   ],
   "source": [
    "second_split = first_split.split(\"\\n\")\n",
    "second_split"
   ]
  },
  {
   "cell_type": "code",
   "execution_count": 27,
   "id": "145a91f8-3834-4a37-96dd-2ce6f4d90384",
   "metadata": {},
   "outputs": [
    {
     "name": "stdout",
     "output_type": "stream",
     "text": [
      "106\n",
      "121\n",
      "210\n"
     ]
    }
   ],
   "source": [
    "for split in second_split:\n",
    "    print(len(split))"
   ]
  },
  {
   "cell_type": "markdown",
   "id": "c12d7f66-4db8-4c0a-8e7a-98194cc11794",
   "metadata": {},
   "source": [
    "Third split exceeds chunk size 200. Now it will further try to split that using the third separator which is ' ' (space)"
   ]
  },
  {
   "cell_type": "code",
   "execution_count": 28,
   "id": "fee1a086-6902-4b18-a15c-c43265558779",
   "metadata": {},
   "outputs": [
    {
     "name": "stdout",
     "output_type": "stream",
     "text": [
      "['Set', 'in', 'a', 'dystopian', 'future', 'where', 'humanity', 'is', 'embroiled', 'in', 'a', 'catastrophic', 'blight', 'and', 'famine,', 'the', 'film', 'follows', 'a', 'group', 'of', 'astronauts', 'who', 'travel', 'through', 'a', 'wormhole', 'near', 'Saturn', 'in', 'search', 'of', 'a', 'new', 'home', 'for', 'humankind.']\n"
     ]
    }
   ],
   "source": [
    "third_split = second_split[2].split(\" \")\n",
    "print(third_split)"
   ]
  },
  {
   "cell_type": "markdown",
   "id": "8ccedeed-eae7-4f5e-a55d-35952a3d3564",
   "metadata": {},
   "source": [
    "When we split this using space (i.e. second_split[2].split(\" \")), it will separate out each word and then it will merge those chunks such that their size is close to 200"
   ]
  },
  {
   "cell_type": "code",
   "execution_count": null,
   "id": "63cb5399-5f14-4fe0-b19d-c0ebc87cf6b0",
   "metadata": {},
   "outputs": [],
   "source": []
  }
 ],
 "metadata": {
  "kernelspec": {
   "display_name": "Python 3 (ipykernel)",
   "language": "python",
   "name": "python3"
  },
  "language_info": {
   "codemirror_mode": {
    "name": "ipython",
    "version": 3
   },
   "file_extension": ".py",
   "mimetype": "text/x-python",
   "name": "python",
   "nbconvert_exporter": "python",
   "pygments_lexer": "ipython3",
   "version": "3.12.8"
  }
 },
 "nbformat": 4,
 "nbformat_minor": 5
}
